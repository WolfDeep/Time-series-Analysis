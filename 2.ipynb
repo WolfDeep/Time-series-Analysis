{
 "cells": [
  {
   "cell_type": "code",
   "execution_count": 4,
   "id": "965580e0-6f56-4d52-9e10-79ad5a04438c",
   "metadata": {
    "tags": []
   },
   "outputs": [],
   "source": [
    "import pandas as pd\n",
    "import numpy as np"
   ]
  },
  {
   "cell_type": "code",
   "execution_count": 5,
   "id": "3f7e121b",
   "metadata": {},
   "outputs": [],
   "source": [
    "!pip install openpyxl -q"
   ]
  },
  {
   "cell_type": "code",
   "execution_count": 6,
   "id": "325bdfec-64f5-465c-881e-48ab8fe69408",
   "metadata": {
    "tags": []
   },
   "outputs": [],
   "source": [
    "data=pd.read_excel('data.xlsx',sheet_name='Sheet1')\n"
   ]
  },
  {
   "cell_type": "code",
   "execution_count": 7,
   "id": "625b9613-75ce-48fc-9c6d-1ad81f668814",
   "metadata": {
    "tags": []
   },
   "outputs": [
    {
     "data": {
      "text/plain": [
       "array(['Magnus', 'Vedic', 'Mellow', 'Spirited', 'Relaxer', 'Cloudie',\n",
       "       'Fete', 'SHIROI', 'KINETIC', 'Svetah', 'BAY AREA', 'Zeal',\n",
       "       'Nityam', 'KORO', 'Wave', 'Essence', 'CUBANIA', 'SOJOURN',\n",
       "       'Party Punch', 'Zip Log', 'Vistrit', 'Daystart', 'Ethno', 'WAKAI',\n",
       "       'AUSTIN', 'Replay', 'Breeze', 'Root in', 'GRACE', 'BUD', 'ROUTINE',\n",
       "       'NAGAI', 'Berlin', 'Causeway', 'BLOOM', 'Campus', 'Style Up',\n",
       "       'SERENE', 'GALA', 'Cosmo', 'Porto', 'Orchard', 'HEXA', 'ARC',\n",
       "       'Explore', 'Tipple', 'Piaro Shirt', 'PARVA', 'ZIPPING', 'Flape',\n",
       "       'Halfway', 'Sabbatum', 'Flake', 'Enchant', 'TRIO', 'TUX',\n",
       "       'Relajarse', 'The Founder', 'Signature', 'Enfold', 'Wander',\n",
       "       'Candid', 'Glide', 'Se Relaxer', 'Envelop', 'marble', 'Everyday',\n",
       "       'moonstone', 'Fern', 'Quartz', 'Beam', 'Day Off', 'Dandelion',\n",
       "       'pearl', 'Cocoon', 'Caravan', 'Unwinder', 'Lounger', 'Splash',\n",
       "       'Stroll', 'Stride', 'Poolside', 'Diver', 'Velocity', 'Daylight ',\n",
       "       'Leap', 'Day Out', 'Saunter', 'DAILY', 'Golfer', 'Swift',\n",
       "       'Ethno - Old', 'HAVEN', 'DAILY -P2', 'DAILY -P3', 'Emblem',\n",
       "       'Summit', 'edge', 'Snooze'], dtype=object)"
      ]
     },
     "execution_count": 7,
     "metadata": {},
     "output_type": "execute_result"
    }
   ],
   "source": [
    "data['Style'].unique()"
   ]
  },
  {
   "cell_type": "code",
   "execution_count": 8,
   "id": "aec6bb85-fa67-497e-a369-11cd8da4ac49",
   "metadata": {
    "tags": []
   },
   "outputs": [
    {
     "data": {
      "text/plain": [
       "KOW-CC04-R-0043-40    122\n",
       "KOW-CC04-R-0043-42    119\n",
       "KOW-CC04-R-0043-39    107\n",
       "KOW-CC04-R-0043-44     90\n",
       "KOW-CC04-R-0043-46     43\n",
       "Name: variant_sku, dtype: int64"
      ]
     },
     "execution_count": 8,
     "metadata": {},
     "output_type": "execute_result"
    }
   ],
   "source": [
    "data[data['Style']=='Cocoon']['variant_sku'].value_counts()"
   ]
  },
  {
   "cell_type": "code",
   "execution_count": 9,
   "id": "7a667046-1f8a-4144-a2b6-594cee386d26",
   "metadata": {
    "tags": []
   },
   "outputs": [
    {
     "data": {
      "text/plain": [
       "Shopflo x Kingdom of White    251\n",
       "Online Store                  217\n",
       "Draft Orders                   13\n",
       "Name: api_client_title, dtype: int64"
      ]
     },
     "execution_count": 9,
     "metadata": {},
     "output_type": "execute_result"
    }
   ],
   "source": [
    "data[data['Style']=='Cocoon']['api_client_title'].value_counts()"
   ]
  },
  {
   "cell_type": "code",
   "execution_count": 10,
   "id": "9d596de0-bd4a-4486-8826-05ed6325becd",
   "metadata": {
    "tags": []
   },
   "outputs": [
    {
     "data": {
      "text/plain": [
       "Index(['day', 'Month', 'Week', 'Parent', 'variant_sku', 'Style', 'Size', 'Occ',\n",
       "       'MRP', 'MRP Bracket', 'order_name', 'api_client_title', 'orders',\n",
       "       'gross_sales', 'discounts', 'returns', 'net_sales', 'shipping',\n",
       "       'duties', 'additional_fees', 'taxes', 'total_sales', 'net_quantity',\n",
       "       'Total', 'Discount', 'Dis %ge'],\n",
       "      dtype='object')"
      ]
     },
     "execution_count": 10,
     "metadata": {},
     "output_type": "execute_result"
    }
   ],
   "source": [
    "data.columns"
   ]
  },
  {
   "cell_type": "code",
   "execution_count": 11,
   "id": "096464a2-d349-4ecb-aca7-0c01ac432cde",
   "metadata": {
    "tags": []
   },
   "outputs": [],
   "source": [
    "df=data[['day','Size','api_client_title','net_quantity','Dis %ge']][data['Style']=='Cocoon']"
   ]
  },
  {
   "cell_type": "code",
   "execution_count": 12,
   "id": "dc60d611-890b-4297-9d4b-a16fb086d9df",
   "metadata": {
    "tags": []
   },
   "outputs": [
    {
     "data": {
      "text/html": [
       "<div>\n",
       "<style scoped>\n",
       "    .dataframe tbody tr th:only-of-type {\n",
       "        vertical-align: middle;\n",
       "    }\n",
       "\n",
       "    .dataframe tbody tr th {\n",
       "        vertical-align: top;\n",
       "    }\n",
       "\n",
       "    .dataframe thead th {\n",
       "        text-align: right;\n",
       "    }\n",
       "</style>\n",
       "<table border=\"1\" class=\"dataframe\">\n",
       "  <thead>\n",
       "    <tr style=\"text-align: right;\">\n",
       "      <th></th>\n",
       "      <th>day</th>\n",
       "      <th>Size</th>\n",
       "      <th>api_client_title</th>\n",
       "      <th>net_quantity</th>\n",
       "      <th>Dis %ge</th>\n",
       "    </tr>\n",
       "  </thead>\n",
       "  <tbody>\n",
       "    <tr>\n",
       "      <th>1226</th>\n",
       "      <td>2023-03-03</td>\n",
       "      <td>44</td>\n",
       "      <td>Draft Orders</td>\n",
       "      <td>1</td>\n",
       "      <td>0.000000</td>\n",
       "    </tr>\n",
       "    <tr>\n",
       "      <th>1228</th>\n",
       "      <td>2023-03-03</td>\n",
       "      <td>39</td>\n",
       "      <td>Online Store</td>\n",
       "      <td>1</td>\n",
       "      <td>0.000000</td>\n",
       "    </tr>\n",
       "    <tr>\n",
       "      <th>1229</th>\n",
       "      <td>2023-03-03</td>\n",
       "      <td>39</td>\n",
       "      <td>Online Store</td>\n",
       "      <td>1</td>\n",
       "      <td>0.000000</td>\n",
       "    </tr>\n",
       "    <tr>\n",
       "      <th>1230</th>\n",
       "      <td>2023-03-03</td>\n",
       "      <td>39</td>\n",
       "      <td>Draft Orders</td>\n",
       "      <td>1</td>\n",
       "      <td>0.000000</td>\n",
       "    </tr>\n",
       "    <tr>\n",
       "      <th>1232</th>\n",
       "      <td>2023-03-03</td>\n",
       "      <td>40</td>\n",
       "      <td>Online Store</td>\n",
       "      <td>1</td>\n",
       "      <td>0.000000</td>\n",
       "    </tr>\n",
       "    <tr>\n",
       "      <th>...</th>\n",
       "      <td>...</td>\n",
       "      <td>...</td>\n",
       "      <td>...</td>\n",
       "      <td>...</td>\n",
       "      <td>...</td>\n",
       "    </tr>\n",
       "    <tr>\n",
       "      <th>6113</th>\n",
       "      <td>2023-07-02</td>\n",
       "      <td>42</td>\n",
       "      <td>Online Store</td>\n",
       "      <td>1</td>\n",
       "      <td>0.320061</td>\n",
       "    </tr>\n",
       "    <tr>\n",
       "      <th>6114</th>\n",
       "      <td>2023-07-02</td>\n",
       "      <td>42</td>\n",
       "      <td>Online Store</td>\n",
       "      <td>1</td>\n",
       "      <td>0.200071</td>\n",
       "    </tr>\n",
       "    <tr>\n",
       "      <th>6137</th>\n",
       "      <td>2023-07-02</td>\n",
       "      <td>44</td>\n",
       "      <td>Online Store</td>\n",
       "      <td>1</td>\n",
       "      <td>0.200071</td>\n",
       "    </tr>\n",
       "    <tr>\n",
       "      <th>6158</th>\n",
       "      <td>2023-07-02</td>\n",
       "      <td>39</td>\n",
       "      <td>Online Store</td>\n",
       "      <td>1</td>\n",
       "      <td>0.280064</td>\n",
       "    </tr>\n",
       "    <tr>\n",
       "      <th>6195</th>\n",
       "      <td>2023-07-02</td>\n",
       "      <td>40</td>\n",
       "      <td>Online Store</td>\n",
       "      <td>1</td>\n",
       "      <td>0.320061</td>\n",
       "    </tr>\n",
       "  </tbody>\n",
       "</table>\n",
       "<p>481 rows × 5 columns</p>\n",
       "</div>"
      ],
      "text/plain": [
       "            day Size api_client_title  net_quantity   Dis %ge\n",
       "1226 2023-03-03   44     Draft Orders             1  0.000000\n",
       "1228 2023-03-03   39     Online Store             1  0.000000\n",
       "1229 2023-03-03   39     Online Store             1  0.000000\n",
       "1230 2023-03-03   39     Draft Orders             1  0.000000\n",
       "1232 2023-03-03   40     Online Store             1  0.000000\n",
       "...         ...  ...              ...           ...       ...\n",
       "6113 2023-07-02   42     Online Store             1  0.320061\n",
       "6114 2023-07-02   42     Online Store             1  0.200071\n",
       "6137 2023-07-02   44     Online Store             1  0.200071\n",
       "6158 2023-07-02   39     Online Store             1  0.280064\n",
       "6195 2023-07-02   40     Online Store             1  0.320061\n",
       "\n",
       "[481 rows x 5 columns]"
      ]
     },
     "execution_count": 12,
     "metadata": {},
     "output_type": "execute_result"
    }
   ],
   "source": [
    "df"
   ]
  },
  {
   "cell_type": "code",
   "execution_count": 13,
   "id": "2d8e3049-93da-4a15-83ab-8af7d9978eb8",
   "metadata": {
    "tags": []
   },
   "outputs": [],
   "source": [
    "df.reset_index(inplace=True,drop=True)"
   ]
  },
  {
   "cell_type": "code",
   "execution_count": 14,
   "id": "fd7aa7fc-1058-491a-b8e8-f8cae13bd489",
   "metadata": {
    "tags": []
   },
   "outputs": [
    {
     "data": {
      "text/html": [
       "<div>\n",
       "<style scoped>\n",
       "    .dataframe tbody tr th:only-of-type {\n",
       "        vertical-align: middle;\n",
       "    }\n",
       "\n",
       "    .dataframe tbody tr th {\n",
       "        vertical-align: top;\n",
       "    }\n",
       "\n",
       "    .dataframe thead th {\n",
       "        text-align: right;\n",
       "    }\n",
       "</style>\n",
       "<table border=\"1\" class=\"dataframe\">\n",
       "  <thead>\n",
       "    <tr style=\"text-align: right;\">\n",
       "      <th></th>\n",
       "      <th>day</th>\n",
       "      <th>Size</th>\n",
       "      <th>api_client_title</th>\n",
       "      <th>net_quantity</th>\n",
       "      <th>Dis %ge</th>\n",
       "    </tr>\n",
       "  </thead>\n",
       "  <tbody>\n",
       "    <tr>\n",
       "      <th>0</th>\n",
       "      <td>2023-03-03</td>\n",
       "      <td>44</td>\n",
       "      <td>Draft Orders</td>\n",
       "      <td>1</td>\n",
       "      <td>0.000000</td>\n",
       "    </tr>\n",
       "    <tr>\n",
       "      <th>1</th>\n",
       "      <td>2023-03-03</td>\n",
       "      <td>39</td>\n",
       "      <td>Online Store</td>\n",
       "      <td>1</td>\n",
       "      <td>0.000000</td>\n",
       "    </tr>\n",
       "    <tr>\n",
       "      <th>2</th>\n",
       "      <td>2023-03-03</td>\n",
       "      <td>39</td>\n",
       "      <td>Online Store</td>\n",
       "      <td>1</td>\n",
       "      <td>0.000000</td>\n",
       "    </tr>\n",
       "    <tr>\n",
       "      <th>3</th>\n",
       "      <td>2023-03-03</td>\n",
       "      <td>39</td>\n",
       "      <td>Draft Orders</td>\n",
       "      <td>1</td>\n",
       "      <td>0.000000</td>\n",
       "    </tr>\n",
       "    <tr>\n",
       "      <th>4</th>\n",
       "      <td>2023-03-03</td>\n",
       "      <td>40</td>\n",
       "      <td>Online Store</td>\n",
       "      <td>1</td>\n",
       "      <td>0.000000</td>\n",
       "    </tr>\n",
       "    <tr>\n",
       "      <th>...</th>\n",
       "      <td>...</td>\n",
       "      <td>...</td>\n",
       "      <td>...</td>\n",
       "      <td>...</td>\n",
       "      <td>...</td>\n",
       "    </tr>\n",
       "    <tr>\n",
       "      <th>476</th>\n",
       "      <td>2023-07-02</td>\n",
       "      <td>42</td>\n",
       "      <td>Online Store</td>\n",
       "      <td>1</td>\n",
       "      <td>0.320061</td>\n",
       "    </tr>\n",
       "    <tr>\n",
       "      <th>477</th>\n",
       "      <td>2023-07-02</td>\n",
       "      <td>42</td>\n",
       "      <td>Online Store</td>\n",
       "      <td>1</td>\n",
       "      <td>0.200071</td>\n",
       "    </tr>\n",
       "    <tr>\n",
       "      <th>478</th>\n",
       "      <td>2023-07-02</td>\n",
       "      <td>44</td>\n",
       "      <td>Online Store</td>\n",
       "      <td>1</td>\n",
       "      <td>0.200071</td>\n",
       "    </tr>\n",
       "    <tr>\n",
       "      <th>479</th>\n",
       "      <td>2023-07-02</td>\n",
       "      <td>39</td>\n",
       "      <td>Online Store</td>\n",
       "      <td>1</td>\n",
       "      <td>0.280064</td>\n",
       "    </tr>\n",
       "    <tr>\n",
       "      <th>480</th>\n",
       "      <td>2023-07-02</td>\n",
       "      <td>40</td>\n",
       "      <td>Online Store</td>\n",
       "      <td>1</td>\n",
       "      <td>0.320061</td>\n",
       "    </tr>\n",
       "  </tbody>\n",
       "</table>\n",
       "<p>481 rows × 5 columns</p>\n",
       "</div>"
      ],
      "text/plain": [
       "           day Size api_client_title  net_quantity   Dis %ge\n",
       "0   2023-03-03   44     Draft Orders             1  0.000000\n",
       "1   2023-03-03   39     Online Store             1  0.000000\n",
       "2   2023-03-03   39     Online Store             1  0.000000\n",
       "3   2023-03-03   39     Draft Orders             1  0.000000\n",
       "4   2023-03-03   40     Online Store             1  0.000000\n",
       "..         ...  ...              ...           ...       ...\n",
       "476 2023-07-02   42     Online Store             1  0.320061\n",
       "477 2023-07-02   42     Online Store             1  0.200071\n",
       "478 2023-07-02   44     Online Store             1  0.200071\n",
       "479 2023-07-02   39     Online Store             1  0.280064\n",
       "480 2023-07-02   40     Online Store             1  0.320061\n",
       "\n",
       "[481 rows x 5 columns]"
      ]
     },
     "execution_count": 14,
     "metadata": {},
     "output_type": "execute_result"
    }
   ],
   "source": [
    "df"
   ]
  },
  {
   "cell_type": "code",
   "execution_count": 15,
   "id": "720142c5-30c6-490f-9be2-0deb0ca3a73e",
   "metadata": {},
   "outputs": [],
   "source": [
    "df.set_index('day',drop=True,inplace=True)"
   ]
  },
  {
   "cell_type": "code",
   "execution_count": 16,
   "id": "3a54c5c2-7778-4aea-858f-2d7632c5ffd0",
   "metadata": {
    "tags": []
   },
   "outputs": [
    {
     "data": {
      "text/html": [
       "<div>\n",
       "<style scoped>\n",
       "    .dataframe tbody tr th:only-of-type {\n",
       "        vertical-align: middle;\n",
       "    }\n",
       "\n",
       "    .dataframe tbody tr th {\n",
       "        vertical-align: top;\n",
       "    }\n",
       "\n",
       "    .dataframe thead th {\n",
       "        text-align: right;\n",
       "    }\n",
       "</style>\n",
       "<table border=\"1\" class=\"dataframe\">\n",
       "  <thead>\n",
       "    <tr style=\"text-align: right;\">\n",
       "      <th></th>\n",
       "      <th>Size</th>\n",
       "      <th>api_client_title</th>\n",
       "      <th>net_quantity</th>\n",
       "      <th>Dis %ge</th>\n",
       "    </tr>\n",
       "    <tr>\n",
       "      <th>day</th>\n",
       "      <th></th>\n",
       "      <th></th>\n",
       "      <th></th>\n",
       "      <th></th>\n",
       "    </tr>\n",
       "  </thead>\n",
       "  <tbody>\n",
       "    <tr>\n",
       "      <th>2023-03-03</th>\n",
       "      <td>44</td>\n",
       "      <td>Draft Orders</td>\n",
       "      <td>1</td>\n",
       "      <td>0.000000</td>\n",
       "    </tr>\n",
       "    <tr>\n",
       "      <th>2023-03-03</th>\n",
       "      <td>39</td>\n",
       "      <td>Online Store</td>\n",
       "      <td>1</td>\n",
       "      <td>0.000000</td>\n",
       "    </tr>\n",
       "    <tr>\n",
       "      <th>2023-03-03</th>\n",
       "      <td>39</td>\n",
       "      <td>Online Store</td>\n",
       "      <td>1</td>\n",
       "      <td>0.000000</td>\n",
       "    </tr>\n",
       "    <tr>\n",
       "      <th>2023-03-03</th>\n",
       "      <td>39</td>\n",
       "      <td>Draft Orders</td>\n",
       "      <td>1</td>\n",
       "      <td>0.000000</td>\n",
       "    </tr>\n",
       "    <tr>\n",
       "      <th>2023-03-03</th>\n",
       "      <td>40</td>\n",
       "      <td>Online Store</td>\n",
       "      <td>1</td>\n",
       "      <td>0.000000</td>\n",
       "    </tr>\n",
       "    <tr>\n",
       "      <th>...</th>\n",
       "      <td>...</td>\n",
       "      <td>...</td>\n",
       "      <td>...</td>\n",
       "      <td>...</td>\n",
       "    </tr>\n",
       "    <tr>\n",
       "      <th>2023-07-02</th>\n",
       "      <td>42</td>\n",
       "      <td>Online Store</td>\n",
       "      <td>1</td>\n",
       "      <td>0.320061</td>\n",
       "    </tr>\n",
       "    <tr>\n",
       "      <th>2023-07-02</th>\n",
       "      <td>42</td>\n",
       "      <td>Online Store</td>\n",
       "      <td>1</td>\n",
       "      <td>0.200071</td>\n",
       "    </tr>\n",
       "    <tr>\n",
       "      <th>2023-07-02</th>\n",
       "      <td>44</td>\n",
       "      <td>Online Store</td>\n",
       "      <td>1</td>\n",
       "      <td>0.200071</td>\n",
       "    </tr>\n",
       "    <tr>\n",
       "      <th>2023-07-02</th>\n",
       "      <td>39</td>\n",
       "      <td>Online Store</td>\n",
       "      <td>1</td>\n",
       "      <td>0.280064</td>\n",
       "    </tr>\n",
       "    <tr>\n",
       "      <th>2023-07-02</th>\n",
       "      <td>40</td>\n",
       "      <td>Online Store</td>\n",
       "      <td>1</td>\n",
       "      <td>0.320061</td>\n",
       "    </tr>\n",
       "  </tbody>\n",
       "</table>\n",
       "<p>481 rows × 4 columns</p>\n",
       "</div>"
      ],
      "text/plain": [
       "           Size api_client_title  net_quantity   Dis %ge\n",
       "day                                                     \n",
       "2023-03-03   44     Draft Orders             1  0.000000\n",
       "2023-03-03   39     Online Store             1  0.000000\n",
       "2023-03-03   39     Online Store             1  0.000000\n",
       "2023-03-03   39     Draft Orders             1  0.000000\n",
       "2023-03-03   40     Online Store             1  0.000000\n",
       "...         ...              ...           ...       ...\n",
       "2023-07-02   42     Online Store             1  0.320061\n",
       "2023-07-02   42     Online Store             1  0.200071\n",
       "2023-07-02   44     Online Store             1  0.200071\n",
       "2023-07-02   39     Online Store             1  0.280064\n",
       "2023-07-02   40     Online Store             1  0.320061\n",
       "\n",
       "[481 rows x 4 columns]"
      ]
     },
     "execution_count": 16,
     "metadata": {},
     "output_type": "execute_result"
    }
   ],
   "source": [
    "df"
   ]
  },
  {
   "cell_type": "code",
   "execution_count": 17,
   "id": "2bb51348-f558-461e-8a78-7ccdb6b209c0",
   "metadata": {
    "tags": []
   },
   "outputs": [
    {
     "data": {
      "text/plain": [
       " 1    467\n",
       "-1      8\n",
       " 2      5\n",
       " 3      1\n",
       "Name: net_quantity, dtype: int64"
      ]
     },
     "execution_count": 17,
     "metadata": {},
     "output_type": "execute_result"
    }
   ],
   "source": [
    "df['net_quantity'].value_counts()"
   ]
  },
  {
   "cell_type": "code",
   "execution_count": 18,
   "id": "cfec207d-e121-4aaf-ad4f-bf27b43e8fa7",
   "metadata": {
    "tags": []
   },
   "outputs": [],
   "source": [
    "df_final=df[['net_quantity']]"
   ]
  },
  {
   "cell_type": "code",
   "execution_count": 19,
   "id": "fc94304f-666b-4fb1-b0dc-d410614b86fd",
   "metadata": {
    "tags": []
   },
   "outputs": [],
   "source": [
    "data_final=df_final.groupby(df_final.index).sum()"
   ]
  },
  {
   "cell_type": "code",
   "execution_count": 20,
   "id": "0cce2f56-54ec-4325-b63e-56cac7a1778c",
   "metadata": {
    "tags": []
   },
   "outputs": [
    {
     "data": {
      "text/html": [
       "<div>\n",
       "<style scoped>\n",
       "    .dataframe tbody tr th:only-of-type {\n",
       "        vertical-align: middle;\n",
       "    }\n",
       "\n",
       "    .dataframe tbody tr th {\n",
       "        vertical-align: top;\n",
       "    }\n",
       "\n",
       "    .dataframe thead th {\n",
       "        text-align: right;\n",
       "    }\n",
       "</style>\n",
       "<table border=\"1\" class=\"dataframe\">\n",
       "  <thead>\n",
       "    <tr style=\"text-align: right;\">\n",
       "      <th></th>\n",
       "      <th>net_quantity</th>\n",
       "    </tr>\n",
       "    <tr>\n",
       "      <th>day</th>\n",
       "      <th></th>\n",
       "    </tr>\n",
       "  </thead>\n",
       "  <tbody>\n",
       "    <tr>\n",
       "      <th>2023-03-03</th>\n",
       "      <td>8</td>\n",
       "    </tr>\n",
       "    <tr>\n",
       "      <th>2023-03-04</th>\n",
       "      <td>1</td>\n",
       "    </tr>\n",
       "    <tr>\n",
       "      <th>2023-03-10</th>\n",
       "      <td>2</td>\n",
       "    </tr>\n",
       "    <tr>\n",
       "      <th>2023-03-11</th>\n",
       "      <td>2</td>\n",
       "    </tr>\n",
       "    <tr>\n",
       "      <th>2023-03-12</th>\n",
       "      <td>0</td>\n",
       "    </tr>\n",
       "    <tr>\n",
       "      <th>...</th>\n",
       "      <td>...</td>\n",
       "    </tr>\n",
       "    <tr>\n",
       "      <th>2023-06-28</th>\n",
       "      <td>-1</td>\n",
       "    </tr>\n",
       "    <tr>\n",
       "      <th>2023-06-29</th>\n",
       "      <td>6</td>\n",
       "    </tr>\n",
       "    <tr>\n",
       "      <th>2023-06-30</th>\n",
       "      <td>2</td>\n",
       "    </tr>\n",
       "    <tr>\n",
       "      <th>2023-07-01</th>\n",
       "      <td>9</td>\n",
       "    </tr>\n",
       "    <tr>\n",
       "      <th>2023-07-02</th>\n",
       "      <td>7</td>\n",
       "    </tr>\n",
       "  </tbody>\n",
       "</table>\n",
       "<p>102 rows × 1 columns</p>\n",
       "</div>"
      ],
      "text/plain": [
       "            net_quantity\n",
       "day                     \n",
       "2023-03-03             8\n",
       "2023-03-04             1\n",
       "2023-03-10             2\n",
       "2023-03-11             2\n",
       "2023-03-12             0\n",
       "...                  ...\n",
       "2023-06-28            -1\n",
       "2023-06-29             6\n",
       "2023-06-30             2\n",
       "2023-07-01             9\n",
       "2023-07-02             7\n",
       "\n",
       "[102 rows x 1 columns]"
      ]
     },
     "execution_count": 20,
     "metadata": {},
     "output_type": "execute_result"
    }
   ],
   "source": [
    "data_final"
   ]
  },
  {
   "cell_type": "code",
   "execution_count": 21,
   "id": "a668bb6d-2067-4a80-918a-50ece222611d",
   "metadata": {
    "tags": []
   },
   "outputs": [
    {
     "data": {
      "text/plain": [
       "<Axes: xlabel='day'>"
      ]
     },
     "execution_count": 21,
     "metadata": {},
     "output_type": "execute_result"
    },
    {
     "data": {
      "image/png": "[encoded data removed]",
      "text/plain": [
       "<Figure size 1600x400 with 1 Axes>"
      ]
     },
     "metadata": {},
     "output_type": "display_data"
    }
   ],
   "source": [
    "\n",
    "data_final.plot(figsize=(16,4))"
   ]
  },
  {
   "cell_type": "code",
   "execution_count": 24,
   "id": "07995412",
   "metadata": {},
   "outputs": [],
   "source": [
    "!pip install statsmodels -q"
   ]
  },
  {
   "cell_type": "code",
   "execution_count": 25,
   "id": "56206fb8-759c-4a39-bea4-747cbd1dbae1",
   "metadata": {
    "scrolled": true,
    "tags": []
   },
   "outputs": [],
   "source": [
    "from statsmodels.tsa.stattools import adfuller"
   ]
  },
  {
   "cell_type": "code",
   "execution_count": 26,
   "id": "eeffd377-60b7-43af-876a-518cdf3f52ac",
   "metadata": {
    "tags": []
   },
   "outputs": [
    {
     "data": {
      "text/plain": [
       "(-3.7691304595131796,\n",
       " 0.0032394210466923524,\n",
       " 1,\n",
       " 100,\n",
       " {'1%': -3.497501033, '5%': -2.89090644, '10%': -2.5824349},\n",
       " 457.63473373330567)"
      ]
     },
     "execution_count": 26,
     "metadata": {},
     "output_type": "execute_result"
    }
   ],
   "source": [
    "adfuller(data_final['net_quantity'])"
   ]
  },
  {
   "cell_type": "code",
   "execution_count": 27,
   "id": "9d3ee162-00cb-4dd3-b38c-8e0d6c29bb48",
   "metadata": {
    "tags": []
   },
   "outputs": [],
   "source": [
    "from statsmodels.tsa.ar_model import AutoReg"
   ]
  },
  {
   "cell_type": "code",
   "execution_count": 28,
   "id": "25a4c3e6-40c9-49fa-8553-ed7e733607e6",
   "metadata": {
    "tags": []
   },
   "outputs": [],
   "source": [
    "from statsmodels.graphics.tsaplots import plot_acf,plot_pacf"
   ]
  },
  {
   "cell_type": "code",
   "execution_count": 29,
   "id": "3fcc398d-d821-433d-bded-6dcd4018ed2b",
   "metadata": {
    "tags": []
   },
   "outputs": [
    {
     "data": {
      "image/png": "[encoded data removed]",
      "text/plain": [
       "<Figure size 640x480 with 1 Axes>"
      ]
     },
     "execution_count": 29,
     "metadata": {},
     "output_type": "execute_result"
    },
    {
     "data": {
      "image/png": "[encoded data removed]",
      "text/plain": [
       "<Figure size 640x480 with 1 Axes>"
      ]
     },
     "metadata": {},
     "output_type": "display_data"
    }
   ],
   "source": [
    "plot_pacf(data_final['net_quantity'])"
   ]
  },
  {
   "cell_type": "code",
   "execution_count": 30,
   "id": "ca435d90-f190-4a29-b645-eb4a2770a397",
   "metadata": {
    "tags": []
   },
   "outputs": [
    {
     "data": {
      "text/plain": [
       "(102, 1)"
      ]
     },
     "execution_count": 30,
     "metadata": {},
     "output_type": "execute_result"
    }
   ],
   "source": [
    "data_final.shape"
   ]
  },
  {
   "cell_type": "code",
   "execution_count": 163,
   "id": "ddbfefab-9bee-4599-9ba1-e3617b5b073d",
   "metadata": {
    "tags": []
   },
   "outputs": [],
   "source": [
    "train=data_final[:-10]\n",
    "test=data_final[-10:]"
   ]
  },
  {
   "cell_type": "code",
   "execution_count": 164,
   "id": "8a989db4-5875-4ae1-95d0-8d82b8998278",
   "metadata": {
    "tags": []
   },
   "outputs": [],
   "source": [
    "ar_model=AutoReg(train,lags=2).fit()"
   ]
  },
  {
   "cell_type": "code",
   "execution_count": 165,
   "id": "7a263dce-8d4b-476d-8faa-54e5e5f18a0e",
   "metadata": {
    "tags": []
   },
   "outputs": [
    {
     "data": {
      "text/html": [
       "<table class=\"simpletable\">\n",
       "<caption>AutoReg Model Results</caption>\n",
       "<tr>\n",
       "  <th>Dep. Variable:</th>   <td>net_quantity</td>   <th>  No. Observations:  </th>    <td>92</td>   \n",
       "</tr>\n",
       "<tr>\n",
       "  <th>Model:</th>            <td>AutoReg(2)</td>    <th>  Log Likelihood     </th> <td>-228.378</td>\n",
       "</tr>\n",
       "<tr>\n",
       "  <th>Method:</th>         <td>Conditional MLE</td> <th>  S.D. of innovations</th>   <td>3.061</td> \n",
       "</tr>\n",
       "<tr>\n",
       "  <th>Date:</th>          <td>Mon, 31 Jul 2023</td> <th>  AIC                </th>  <td>464.755</td>\n",
       "</tr>\n",
       "<tr>\n",
       "  <th>Time:</th>              <td>17:11:51</td>     <th>  BIC                </th>  <td>474.754</td>\n",
       "</tr>\n",
       "<tr>\n",
       "  <th>Sample:</th>                <td>2</td>        <th>  HQIC               </th>  <td>468.787</td>\n",
       "</tr>\n",
       "<tr>\n",
       "  <th></th>                      <td>92</td>        <th>                     </th>     <td> </td>   \n",
       "</tr>\n",
       "</table>\n",
       "<table class=\"simpletable\">\n",
       "<tr>\n",
       "         <td></td>            <th>coef</th>     <th>std err</th>      <th>z</th>      <th>P>|z|</th>  <th>[0.025</th>    <th>0.975]</th>  \n",
       "</tr>\n",
       "<tr>\n",
       "  <th>const</th>           <td>    1.8858</td> <td>    0.614</td> <td>    3.069</td> <td> 0.002</td> <td>    0.682</td> <td>    3.090</td>\n",
       "</tr>\n",
       "<tr>\n",
       "  <th>net_quantity.L1</th> <td>    0.2929</td> <td>    0.099</td> <td>    2.963</td> <td> 0.003</td> <td>    0.099</td> <td>    0.487</td>\n",
       "</tr>\n",
       "<tr>\n",
       "  <th>net_quantity.L2</th> <td>    0.3087</td> <td>    0.099</td> <td>    3.117</td> <td> 0.002</td> <td>    0.115</td> <td>    0.503</td>\n",
       "</tr>\n",
       "</table>\n",
       "<table class=\"simpletable\">\n",
       "<caption>Roots</caption>\n",
       "<tr>\n",
       "    <td></td>   <th>            Real</th>  <th>         Imaginary</th> <th>         Modulus</th>  <th>        Frequency</th>\n",
       "</tr>\n",
       "<tr>\n",
       "  <th>AR.1</th> <td>           1.3868</td> <td>          +0.0000j</td> <td>           1.3868</td> <td>           0.0000</td>\n",
       "</tr>\n",
       "<tr>\n",
       "  <th>AR.2</th> <td>          -2.3355</td> <td>          +0.0000j</td> <td>           2.3355</td> <td>           0.5000</td>\n",
       "</tr>\n",
       "</table>"
      ],
      "text/latex": [
       "\\begin{center}\n",
       "\\begin{tabular}{lclc}\n",
       "\\toprule\n",
       "\\textbf{Dep. Variable:}   &       net\\_quantity       & \\textbf{  No. Observations:  } &             92             \\\\\n",
       "\\textbf{Model:}           &         AutoReg(2)        & \\textbf{  Log Likelihood     } &          -228.378          \\\\\n",
       "\\textbf{Method:}          &      Conditional MLE      & \\textbf{  S.D. of innovations} &           3.061            \\\\\n",
       "\\textbf{Date:}            &      Mon, 31 Jul 2023     & \\textbf{  AIC                } &          464.755           \\\\\n",
       "\\textbf{Time:}            &          17:11:51         & \\textbf{  BIC                } &          474.754           \\\\\n",
       "\\textbf{Sample:}          &             2             & \\textbf{  HQIC               } &          468.787           \\\\\n",
       "\\textbf{}                 &             92            & \\textbf{                     } &                            \\\\\n",
       "\\bottomrule\n",
       "\\end{tabular}\n",
       "\\begin{tabular}{lcccccc}\n",
       "                          & \\textbf{coef} & \\textbf{std err} & \\textbf{z} & \\textbf{P$> |$z$|$} & \\textbf{[0.025} & \\textbf{0.975]}  \\\\\n",
       "\\midrule\n",
       "\\textbf{const}            &       1.8858  &        0.614     &     3.069  &         0.002        &        0.682    &        3.090     \\\\\n",
       "\\textbf{net\\_quantity.L1} &       0.2929  &        0.099     &     2.963  &         0.003        &        0.099    &        0.487     \\\\\n",
       "\\textbf{net\\_quantity.L2} &       0.3087  &        0.099     &     3.117  &         0.002        &        0.115    &        0.503     \\\\\n",
       "\\bottomrule\n",
       "\\end{tabular}\n",
       "\\begin{tabular}{lcccc}\n",
       "              & \\textbf{            Real} & \\textbf{         Imaginary} & \\textbf{         Modulus} & \\textbf{        Frequency}  \\\\\n",
       "\\midrule\n",
       "\\textbf{AR.1} &                1.3868     &                +0.0000j     &                1.3868     &                0.0000       \\\\\n",
       "\\textbf{AR.2} &               -2.3355     &                +0.0000j     &                2.3355     &                0.5000       \\\\\n",
       "\\bottomrule\n",
       "\\end{tabular}\n",
       "%\\caption{AutoReg Model Results}\n",
       "\\end{center}"
      ],
      "text/plain": [
       "<class 'statsmodels.iolib.summary.Summary'>\n",
       "\"\"\"\n",
       "                            AutoReg Model Results                             \n",
       "==============================================================================\n",
       "Dep. Variable:           net_quantity   No. Observations:                   92\n",
       "Model:                     AutoReg(2)   Log Likelihood                -228.378\n",
       "Method:               Conditional MLE   S.D. of innovations              3.061\n",
       "Date:                Mon, 31 Jul 2023   AIC                            464.755\n",
       "Time:                        17:11:51   BIC                            474.754\n",
       "Sample:                             2   HQIC                           468.787\n",
       "                                   92                                         \n",
       "===================================================================================\n",
       "                      coef    std err          z      P>|z|      [0.025      0.975]\n",
       "-----------------------------------------------------------------------------------\n",
       "const               1.8858      0.614      3.069      0.002       0.682       3.090\n",
       "net_quantity.L1     0.2929      0.099      2.963      0.003       0.099       0.487\n",
       "net_quantity.L2     0.3087      0.099      3.117      0.002       0.115       0.503\n",
       "                                    Roots                                    \n",
       "=============================================================================\n",
       "                  Real          Imaginary           Modulus         Frequency\n",
       "-----------------------------------------------------------------------------\n",
       "AR.1            1.3868           +0.0000j            1.3868            0.0000\n",
       "AR.2           -2.3355           +0.0000j            2.3355            0.5000\n",
       "-----------------------------------------------------------------------------\n",
       "\"\"\""
      ]
     },
     "execution_count": 165,
     "metadata": {},
     "output_type": "execute_result"
    }
   ],
   "source": [
    "ar_model.summary()"
   ]
  },
  {
   "cell_type": "code",
   "execution_count": 166,
   "id": "413ea878-de18-4328-94f0-94dd9edb5986",
   "metadata": {
    "tags": []
   },
   "outputs": [],
   "source": [
    "predict_ar=ar_model.predict(start=len(train),end=data_final.shape[0]-1,dynamic=False)"
   ]
  },
  {
   "cell_type": "code",
   "execution_count": 167,
   "id": "e390336e-f196-435b-97fe-e34d56f3749c",
   "metadata": {
    "tags": []
   },
   "outputs": [
    {
     "data": {
      "text/plain": [
       "array([2.78040498, 3.31774837, 3.71609466, 3.99868146, 4.20444501,\n",
       "       4.35196511, 4.45870558, 4.53551839, 4.5909742 , 4.63093404])"
      ]
     },
     "execution_count": 167,
     "metadata": {},
     "output_type": "execute_result"
    }
   ],
   "source": [
    "predict_ar.values"
   ]
  },
  {
   "cell_type": "code",
   "execution_count": 168,
   "id": "7cf54e39-0918-4533-8c30-9d0555320dfe",
   "metadata": {
    "tags": []
   },
   "outputs": [
    {
     "data": {
      "text/plain": [
       "array([ 4,  1,  1,  3,  1, -1,  6,  2,  9,  7], dtype=int64)"
      ]
     },
     "execution_count": 168,
     "metadata": {},
     "output_type": "execute_result"
    }
   ],
   "source": [
    "test.values.reshape((1,-1)).flatten()"
   ]
  },
  {
   "cell_type": "code",
   "execution_count": 169,
   "id": "f1053a2a-a9a0-496c-800e-5b903ad52d93",
   "metadata": {
    "tags": []
   },
   "outputs": [],
   "source": [
    "from matplotlib import pyplot as plt"
   ]
  },
  {
   "cell_type": "code",
   "execution_count": 170,
   "id": "3dfd5fa1-3c31-4ee6-870a-41b7031f76d2",
   "metadata": {
    "tags": []
   },
   "outputs": [
    {
     "data": {
      "image/png": "[encoded data removed]",
      "text/plain": [
       "<Figure size 640x480 with 1 Axes>"
      ]
     },
     "metadata": {},
     "output_type": "display_data"
    }
   ],
   "source": [
    "plt.plot(test.values.reshape((1,-1)).flatten(),label='actual')\n",
    "plt.plot(predict_ar.values,label='predicted')\n",
    "\n",
    "plt.legend(loc='upper left')\n",
    "plt.show()"
   ]
  },
  {
   "cell_type": "code",
   "execution_count": 171,
   "id": "acc834b3-e0a0-48d8-b9c3-8cb79a193c0e",
   "metadata": {
    "tags": []
   },
   "outputs": [],
   "source": [
    "from sklearn.metrics import mean_squared_error\n",
    "from math import sqrt"
   ]
  },
  {
   "cell_type": "code",
   "execution_count": 172,
   "id": "f51f5895-5dda-458e-b7f0-c16ff27f139d",
   "metadata": {},
   "outputs": [],
   "source": [
    "rmse_ar=sqrt(mean_squared_error(test.values.reshape((1,-1)).flatten(),predict_ar.values))"
   ]
  },
  {
   "cell_type": "code",
   "execution_count": 173,
   "id": "fc065562",
   "metadata": {},
   "outputs": [
    {
     "data": {
      "text/plain": [
       "4.058547179659461"
      ]
     },
     "execution_count": 173,
     "metadata": {},
     "output_type": "execute_result"
    }
   ],
   "source": [
    "predict_ar.values.mean()"
   ]
  },
  {
   "cell_type": "code",
   "execution_count": 174,
   "id": "f6c31984",
   "metadata": {},
   "outputs": [
    {
     "data": {
      "text/plain": [
       "2.9665186114512716"
      ]
     },
     "execution_count": 174,
     "metadata": {},
     "output_type": "execute_result"
    }
   ],
   "source": [
    "rmse_ar"
   ]
  },
  {
   "cell_type": "markdown",
   "id": "a97644c1",
   "metadata": {},
   "source": [
    "note : here rmse is not in range of 10% of mean hence bad prediction"
   ]
  },
  {
   "cell_type": "markdown",
   "id": "b1874fea",
   "metadata": {},
   "source": [
    "## ARIMA Model"
   ]
  },
  {
   "cell_type": "code",
   "execution_count": 175,
   "id": "df67874f",
   "metadata": {},
   "outputs": [],
   "source": [
    "from pmdarima import auto_arima"
   ]
  },
  {
   "cell_type": "code",
   "execution_count": 176,
   "id": "4f163f7e",
   "metadata": {},
   "outputs": [
    {
     "data": {
      "text/html": [
       "<div>\n",
       "<style scoped>\n",
       "    .dataframe tbody tr th:only-of-type {\n",
       "        vertical-align: middle;\n",
       "    }\n",
       "\n",
       "    .dataframe tbody tr th {\n",
       "        vertical-align: top;\n",
       "    }\n",
       "\n",
       "    .dataframe thead th {\n",
       "        text-align: right;\n",
       "    }\n",
       "</style>\n",
       "<table border=\"1\" class=\"dataframe\">\n",
       "  <thead>\n",
       "    <tr style=\"text-align: right;\">\n",
       "      <th></th>\n",
       "      <th>net_quantity</th>\n",
       "    </tr>\n",
       "    <tr>\n",
       "      <th>day</th>\n",
       "      <th></th>\n",
       "    </tr>\n",
       "  </thead>\n",
       "  <tbody>\n",
       "    <tr>\n",
       "      <th>2023-03-03</th>\n",
       "      <td>8</td>\n",
       "    </tr>\n",
       "    <tr>\n",
       "      <th>2023-03-04</th>\n",
       "      <td>1</td>\n",
       "    </tr>\n",
       "    <tr>\n",
       "      <th>2023-03-10</th>\n",
       "      <td>2</td>\n",
       "    </tr>\n",
       "    <tr>\n",
       "      <th>2023-03-11</th>\n",
       "      <td>2</td>\n",
       "    </tr>\n",
       "    <tr>\n",
       "      <th>2023-03-12</th>\n",
       "      <td>0</td>\n",
       "    </tr>\n",
       "  </tbody>\n",
       "</table>\n",
       "</div>"
      ],
      "text/plain": [
       "            net_quantity\n",
       "day                     \n",
       "2023-03-03             8\n",
       "2023-03-04             1\n",
       "2023-03-10             2\n",
       "2023-03-11             2\n",
       "2023-03-12             0"
      ]
     },
     "execution_count": 176,
     "metadata": {},
     "output_type": "execute_result"
    }
   ],
   "source": [
    "data_final.head()"
   ]
  },
  {
   "cell_type": "code",
   "execution_count": 177,
   "id": "b6724660",
   "metadata": {},
   "outputs": [],
   "source": [
    "import warnings\n",
    "warnings.filterwarnings('ignore')"
   ]
  },
  {
   "cell_type": "code",
   "execution_count": 54,
   "id": "bc13cc14",
   "metadata": {},
   "outputs": [
    {
     "name": "stdout",
     "output_type": "stream",
     "text": [
      "Performing stepwise search to minimize aic\n",
      " ARIMA(2,0,2)(0,0,0)[0] intercept   : AIC=527.690, Time=0.11 sec\n",
      " ARIMA(0,0,0)(0,0,0)[0] intercept   : AIC=550.191, Time=0.01 sec\n",
      " ARIMA(1,0,0)(0,0,0)[0] intercept   : AIC=534.904, Time=0.02 sec\n",
      " ARIMA(0,0,1)(0,0,0)[0] intercept   : AIC=541.987, Time=0.03 sec\n",
      " ARIMA(0,0,0)(0,0,0)[0]             : AIC=650.562, Time=0.01 sec\n",
      " ARIMA(1,0,2)(0,0,0)[0] intercept   : AIC=526.637, Time=0.07 sec\n",
      " ARIMA(0,0,2)(0,0,0)[0] intercept   : AIC=533.744, Time=0.04 sec\n",
      " ARIMA(1,0,1)(0,0,0)[0] intercept   : AIC=525.162, Time=0.06 sec\n",
      " ARIMA(2,0,1)(0,0,0)[0] intercept   : AIC=526.449, Time=0.06 sec\n",
      " ARIMA(2,0,0)(0,0,0)[0] intercept   : AIC=525.849, Time=0.03 sec\n",
      " ARIMA(1,0,1)(0,0,0)[0]             : AIC=527.816, Time=0.03 sec\n",
      "\n",
      "Best model:  ARIMA(1,0,1)(0,0,0)[0] intercept\n",
      "Total fit time: 0.465 seconds\n"
     ]
    }
   ],
   "source": [
    "stepwise_fit=auto_arima(data_final['net_quantity'],trace=True,supress_warning=True)"
   ]
  },
  {
   "cell_type": "code",
   "execution_count": 74,
   "id": "c5ce36ea",
   "metadata": {},
   "outputs": [],
   "source": [
    "from statsmodels.tsa.arima.model import ARIMA"
   ]
  },
  {
   "cell_type": "code",
   "execution_count": 178,
   "id": "d278dde7",
   "metadata": {},
   "outputs": [],
   "source": [
    "model_arima=ARIMA(train['net_quantity'],order=(1,0,1)).fit()"
   ]
  },
  {
   "cell_type": "code",
   "execution_count": 179,
   "id": "3ec6d12e",
   "metadata": {},
   "outputs": [
    {
     "data": {
      "text/html": [
       "<table class=\"simpletable\">\n",
       "<caption>SARIMAX Results</caption>\n",
       "<tr>\n",
       "  <th>Dep. Variable:</th>     <td>net_quantity</td>   <th>  No. Observations:  </th>    <td>92</td>   \n",
       "</tr>\n",
       "<tr>\n",
       "  <th>Model:</th>            <td>ARIMA(1, 0, 1)</td>  <th>  Log Likelihood     </th> <td>-233.590</td>\n",
       "</tr>\n",
       "<tr>\n",
       "  <th>Date:</th>            <td>Mon, 31 Jul 2023</td> <th>  AIC                </th>  <td>475.179</td>\n",
       "</tr>\n",
       "<tr>\n",
       "  <th>Time:</th>                <td>17:12:28</td>     <th>  BIC                </th>  <td>485.266</td>\n",
       "</tr>\n",
       "<tr>\n",
       "  <th>Sample:</th>                  <td>0</td>        <th>  HQIC               </th>  <td>479.250</td>\n",
       "</tr>\n",
       "<tr>\n",
       "  <th></th>                       <td> - 92</td>      <th>                     </th>     <td> </td>   \n",
       "</tr>\n",
       "<tr>\n",
       "  <th>Covariance Type:</th>        <td>opg</td>       <th>                     </th>     <td> </td>   \n",
       "</tr>\n",
       "</table>\n",
       "<table class=\"simpletable\">\n",
       "<tr>\n",
       "     <td></td>       <th>coef</th>     <th>std err</th>      <th>z</th>      <th>P>|z|</th>  <th>[0.025</th>    <th>0.975]</th>  \n",
       "</tr>\n",
       "<tr>\n",
       "  <th>const</th>  <td>    4.4727</td> <td>    1.406</td> <td>    3.182</td> <td> 0.001</td> <td>    1.718</td> <td>    7.228</td>\n",
       "</tr>\n",
       "<tr>\n",
       "  <th>ar.L1</th>  <td>    0.9135</td> <td>    0.076</td> <td>   11.993</td> <td> 0.000</td> <td>    0.764</td> <td>    1.063</td>\n",
       "</tr>\n",
       "<tr>\n",
       "  <th>ma.L1</th>  <td>   -0.6794</td> <td>    0.133</td> <td>   -5.117</td> <td> 0.000</td> <td>   -0.940</td> <td>   -0.419</td>\n",
       "</tr>\n",
       "<tr>\n",
       "  <th>sigma2</th> <td>    9.3460</td> <td>    1.450</td> <td>    6.446</td> <td> 0.000</td> <td>    6.504</td> <td>   12.188</td>\n",
       "</tr>\n",
       "</table>\n",
       "<table class=\"simpletable\">\n",
       "<tr>\n",
       "  <th>Ljung-Box (L1) (Q):</th>     <td>0.02</td> <th>  Jarque-Bera (JB):  </th> <td>9.29</td>\n",
       "</tr>\n",
       "<tr>\n",
       "  <th>Prob(Q):</th>                <td>0.90</td> <th>  Prob(JB):          </th> <td>0.01</td>\n",
       "</tr>\n",
       "<tr>\n",
       "  <th>Heteroskedasticity (H):</th> <td>1.07</td> <th>  Skew:              </th> <td>0.74</td>\n",
       "</tr>\n",
       "<tr>\n",
       "  <th>Prob(H) (two-sided):</th>    <td>0.85</td> <th>  Kurtosis:          </th> <td>3.51</td>\n",
       "</tr>\n",
       "</table><br/><br/>Warnings:<br/>[1] Covariance matrix calculated using the outer product of gradients (complex-step)."
      ],
      "text/latex": [
       "\\begin{center}\n",
       "\\begin{tabular}{lclc}\n",
       "\\toprule\n",
       "\\textbf{Dep. Variable:}          &  net\\_quantity   & \\textbf{  No. Observations:  } &     92      \\\\\n",
       "\\textbf{Model:}                  &  ARIMA(1, 0, 1)  & \\textbf{  Log Likelihood     } &  -233.590   \\\\\n",
       "\\textbf{Date:}                   & Mon, 31 Jul 2023 & \\textbf{  AIC                } &  475.179    \\\\\n",
       "\\textbf{Time:}                   &     17:12:28     & \\textbf{  BIC                } &  485.266    \\\\\n",
       "\\textbf{Sample:}                 &        0         & \\textbf{  HQIC               } &  479.250    \\\\\n",
       "\\textbf{}                        &       - 92       & \\textbf{                     } &             \\\\\n",
       "\\textbf{Covariance Type:}        &       opg        & \\textbf{                     } &             \\\\\n",
       "\\bottomrule\n",
       "\\end{tabular}\n",
       "\\begin{tabular}{lcccccc}\n",
       "                & \\textbf{coef} & \\textbf{std err} & \\textbf{z} & \\textbf{P$> |$z$|$} & \\textbf{[0.025} & \\textbf{0.975]}  \\\\\n",
       "\\midrule\n",
       "\\textbf{const}  &       4.4727  &        1.406     &     3.182  &         0.001        &        1.718    &        7.228     \\\\\n",
       "\\textbf{ar.L1}  &       0.9135  &        0.076     &    11.993  &         0.000        &        0.764    &        1.063     \\\\\n",
       "\\textbf{ma.L1}  &      -0.6794  &        0.133     &    -5.117  &         0.000        &       -0.940    &       -0.419     \\\\\n",
       "\\textbf{sigma2} &       9.3460  &        1.450     &     6.446  &         0.000        &        6.504    &       12.188     \\\\\n",
       "\\bottomrule\n",
       "\\end{tabular}\n",
       "\\begin{tabular}{lclc}\n",
       "\\textbf{Ljung-Box (L1) (Q):}     & 0.02 & \\textbf{  Jarque-Bera (JB):  } & 9.29  \\\\\n",
       "\\textbf{Prob(Q):}                & 0.90 & \\textbf{  Prob(JB):          } & 0.01  \\\\\n",
       "\\textbf{Heteroskedasticity (H):} & 1.07 & \\textbf{  Skew:              } & 0.74  \\\\\n",
       "\\textbf{Prob(H) (two-sided):}    & 0.85 & \\textbf{  Kurtosis:          } & 3.51  \\\\\n",
       "\\bottomrule\n",
       "\\end{tabular}\n",
       "%\\caption{SARIMAX Results}\n",
       "\\end{center}\n",
       "\n",
       "Warnings: \\newline\n",
       " [1] Covariance matrix calculated using the outer product of gradients (complex-step)."
      ],
      "text/plain": [
       "<class 'statsmodels.iolib.summary.Summary'>\n",
       "\"\"\"\n",
       "                               SARIMAX Results                                \n",
       "==============================================================================\n",
       "Dep. Variable:           net_quantity   No. Observations:                   92\n",
       "Model:                 ARIMA(1, 0, 1)   Log Likelihood                -233.590\n",
       "Date:                Mon, 31 Jul 2023   AIC                            475.179\n",
       "Time:                        17:12:28   BIC                            485.266\n",
       "Sample:                             0   HQIC                           479.250\n",
       "                                 - 92                                         \n",
       "Covariance Type:                  opg                                         \n",
       "==============================================================================\n",
       "                 coef    std err          z      P>|z|      [0.025      0.975]\n",
       "------------------------------------------------------------------------------\n",
       "const          4.4727      1.406      3.182      0.001       1.718       7.228\n",
       "ar.L1          0.9135      0.076     11.993      0.000       0.764       1.063\n",
       "ma.L1         -0.6794      0.133     -5.117      0.000      -0.940      -0.419\n",
       "sigma2         9.3460      1.450      6.446      0.000       6.504      12.188\n",
       "===================================================================================\n",
       "Ljung-Box (L1) (Q):                   0.02   Jarque-Bera (JB):                 9.29\n",
       "Prob(Q):                              0.90   Prob(JB):                         0.01\n",
       "Heteroskedasticity (H):               1.07   Skew:                             0.74\n",
       "Prob(H) (two-sided):                  0.85   Kurtosis:                         3.51\n",
       "===================================================================================\n",
       "\n",
       "Warnings:\n",
       "[1] Covariance matrix calculated using the outer product of gradients (complex-step).\n",
       "\"\"\""
      ]
     },
     "execution_count": 179,
     "metadata": {},
     "output_type": "execute_result"
    }
   ],
   "source": [
    "model_arima.summary()"
   ]
  },
  {
   "cell_type": "code",
   "execution_count": 180,
   "id": "cf5005bd",
   "metadata": {},
   "outputs": [],
   "source": [
    "predict_arima=model_arima.predict(start=len(train),end=data_final.shape[0]-1,dynamic=False)"
   ]
  },
  {
   "cell_type": "code",
   "execution_count": 181,
   "id": "64a9001d",
   "metadata": {},
   "outputs": [
    {
     "data": {
      "image/png": "[encoded data removed]",
      "text/plain": [
       "<Figure size 640x480 with 1 Axes>"
      ]
     },
     "metadata": {},
     "output_type": "display_data"
    }
   ],
   "source": [
    "plt.plot(test.values.reshape((1,-1)).flatten(),label='actual')\n",
    "plt.plot(predict_arima.values,label='predicted')\n",
    "\n",
    "plt.legend(loc='upper left')\n",
    "plt.show()"
   ]
  },
  {
   "cell_type": "code",
   "execution_count": 182,
   "id": "42d1071c",
   "metadata": {},
   "outputs": [
    {
     "data": {
      "text/plain": [
       "2.874115992900233"
      ]
     },
     "execution_count": 182,
     "metadata": {},
     "output_type": "execute_result"
    }
   ],
   "source": [
    "rmse_arima=sqrt(mean_squared_error(test.values.reshape((1,-1)).flatten(),predict_arima.values))\n",
    "rmse_arima"
   ]
  },
  {
   "cell_type": "code",
   "execution_count": 183,
   "id": "677f160d",
   "metadata": {},
   "outputs": [
    {
     "data": {
      "text/plain": [
       "3.3691676518668743"
      ]
     },
     "execution_count": 183,
     "metadata": {},
     "output_type": "execute_result"
    }
   ],
   "source": [
    "predict_arima.values.mean()"
   ]
  },
  {
   "cell_type": "markdown",
   "id": "07a515d6",
   "metadata": {},
   "source": [
    "## TSA By ML"
   ]
  },
  {
   "cell_type": "code",
   "execution_count": 184,
   "id": "20ad12fa",
   "metadata": {},
   "outputs": [
    {
     "data": {
      "text/html": [
       "<div>\n",
       "<style scoped>\n",
       "    .dataframe tbody tr th:only-of-type {\n",
       "        vertical-align: middle;\n",
       "    }\n",
       "\n",
       "    .dataframe tbody tr th {\n",
       "        vertical-align: top;\n",
       "    }\n",
       "\n",
       "    .dataframe thead th {\n",
       "        text-align: right;\n",
       "    }\n",
       "</style>\n",
       "<table border=\"1\" class=\"dataframe\">\n",
       "  <thead>\n",
       "    <tr style=\"text-align: right;\">\n",
       "      <th></th>\n",
       "      <th>net_quantity</th>\n",
       "    </tr>\n",
       "    <tr>\n",
       "      <th>day</th>\n",
       "      <th></th>\n",
       "    </tr>\n",
       "  </thead>\n",
       "  <tbody>\n",
       "    <tr>\n",
       "      <th>2023-03-03</th>\n",
       "      <td>8</td>\n",
       "    </tr>\n",
       "    <tr>\n",
       "      <th>2023-03-04</th>\n",
       "      <td>1</td>\n",
       "    </tr>\n",
       "    <tr>\n",
       "      <th>2023-03-10</th>\n",
       "      <td>2</td>\n",
       "    </tr>\n",
       "    <tr>\n",
       "      <th>2023-03-11</th>\n",
       "      <td>2</td>\n",
       "    </tr>\n",
       "    <tr>\n",
       "      <th>2023-03-12</th>\n",
       "      <td>0</td>\n",
       "    </tr>\n",
       "    <tr>\n",
       "      <th>...</th>\n",
       "      <td>...</td>\n",
       "    </tr>\n",
       "    <tr>\n",
       "      <th>2023-06-28</th>\n",
       "      <td>-1</td>\n",
       "    </tr>\n",
       "    <tr>\n",
       "      <th>2023-06-29</th>\n",
       "      <td>6</td>\n",
       "    </tr>\n",
       "    <tr>\n",
       "      <th>2023-06-30</th>\n",
       "      <td>2</td>\n",
       "    </tr>\n",
       "    <tr>\n",
       "      <th>2023-07-01</th>\n",
       "      <td>9</td>\n",
       "    </tr>\n",
       "    <tr>\n",
       "      <th>2023-07-02</th>\n",
       "      <td>7</td>\n",
       "    </tr>\n",
       "  </tbody>\n",
       "</table>\n",
       "<p>102 rows × 1 columns</p>\n",
       "</div>"
      ],
      "text/plain": [
       "            net_quantity\n",
       "day                     \n",
       "2023-03-03             8\n",
       "2023-03-04             1\n",
       "2023-03-10             2\n",
       "2023-03-11             2\n",
       "2023-03-12             0\n",
       "...                  ...\n",
       "2023-06-28            -1\n",
       "2023-06-29             6\n",
       "2023-06-30             2\n",
       "2023-07-01             9\n",
       "2023-07-02             7\n",
       "\n",
       "[102 rows x 1 columns]"
      ]
     },
     "execution_count": 184,
     "metadata": {},
     "output_type": "execute_result"
    }
   ],
   "source": [
    "data_final"
   ]
  },
  {
   "cell_type": "code",
   "execution_count": 87,
   "id": "192f3f57",
   "metadata": {},
   "outputs": [],
   "source": [
    "df_ml=data_final.copy()"
   ]
  },
  {
   "cell_type": "code",
   "execution_count": 90,
   "id": "15905b09",
   "metadata": {},
   "outputs": [],
   "source": [
    "df_ml['last_month']=df_ml['net_quantity'].shift(1)"
   ]
  },
  {
   "cell_type": "code",
   "execution_count": 92,
   "id": "6a957aef",
   "metadata": {},
   "outputs": [],
   "source": [
    "df_ml['last_2_month']=df_ml['net_quantity'].shift(2)"
   ]
  },
  {
   "cell_type": "code",
   "execution_count": 93,
   "id": "db32837d",
   "metadata": {},
   "outputs": [],
   "source": [
    "from sklearn.linear_model import LinearRegression \n",
    "from sklearn.ensemble import RandomForestRegressor"
   ]
  },
  {
   "cell_type": "code",
   "execution_count": 94,
   "id": "d789d69b",
   "metadata": {},
   "outputs": [],
   "source": [
    "lin_model=LinearRegression()"
   ]
  },
  {
   "cell_type": "code",
   "execution_count": 95,
   "id": "32286bb5",
   "metadata": {},
   "outputs": [],
   "source": [
    "rfr_model=RandomForestRegressor(n_estimators=100,max_features=3,random_state=1)"
   ]
  },
  {
   "cell_type": "code",
   "execution_count": 97,
   "id": "a8e6879d",
   "metadata": {},
   "outputs": [],
   "source": [
    "df_ml.dropna(axis=0,inplace=True)"
   ]
  },
  {
   "cell_type": "code",
   "execution_count": 99,
   "id": "8832a7f8",
   "metadata": {},
   "outputs": [],
   "source": [
    "from sklearn.model_selection import train_test_split"
   ]
  },
  {
   "cell_type": "code",
   "execution_count": 100,
   "id": "8321ec60",
   "metadata": {},
   "outputs": [
    {
     "data": {
      "text/plain": [
       "Index(['net_quantity', 'last_month', 'last_2_month'], dtype='object')"
      ]
     },
     "execution_count": 100,
     "metadata": {},
     "output_type": "execute_result"
    }
   ],
   "source": [
    "df_ml.columns"
   ]
  },
  {
   "cell_type": "code",
   "execution_count": 103,
   "id": "bf0757d9",
   "metadata": {},
   "outputs": [],
   "source": [
    "x_train,x_test,y_train,y_test=train_test_split(df_ml[['last_month','last_2_month']],df_ml['net_quantity'],test_size=0.2)"
   ]
  },
  {
   "cell_type": "code",
   "execution_count": 104,
   "id": "02f5d254",
   "metadata": {},
   "outputs": [
    {
     "data": {
      "text/html": [
       "<style>#sk-container-id-1 {color: black;background-color: white;}#sk-container-id-1 pre{padding: 0;}#sk-container-id-1 div.sk-toggleable {background-color: white;}#sk-container-id-1 label.sk-toggleable__label {cursor: pointer;display: block;width: 100%;margin-bottom: 0;padding: 0.3em;box-sizing: border-box;text-align: center;}#sk-container-id-1 label.sk-toggleable__label-arrow:before {content: \"▸\";float: left;margin-right: 0.25em;color: #696969;}#sk-container-id-1 label.sk-toggleable__label-arrow:hover:before {color: black;}#sk-container-id-1 div.sk-estimator:hover label.sk-toggleable__label-arrow:before {color: black;}#sk-container-id-1 div.sk-toggleable__content {max-height: 0;max-width: 0;overflow: hidden;text-align: left;background-color: #f0f8ff;}#sk-container-id-1 div.sk-toggleable__content pre {margin: 0.2em;color: black;border-radius: 0.25em;background-color: #f0f8ff;}#sk-container-id-1 input.sk-toggleable__control:checked~div.sk-toggleable__content {max-height: 200px;max-width: 100%;overflow: auto;}#sk-container-id-1 input.sk-toggleable__control:checked~label.sk-toggleable__label-arrow:before {content: \"▾\";}#sk-container-id-1 div.sk-estimator input.sk-toggleable__control:checked~label.sk-toggleable__label {background-color: #d4ebff;}#sk-container-id-1 div.sk-label input.sk-toggleable__control:checked~label.sk-toggleable__label {background-color: #d4ebff;}#sk-container-id-1 input.sk-hidden--visually {border: 0;clip: rect(1px 1px 1px 1px);clip: rect(1px, 1px, 1px, 1px);height: 1px;margin: -1px;overflow: hidden;padding: 0;position: absolute;width: 1px;}#sk-container-id-1 div.sk-estimator {font-family: monospace;background-color: #f0f8ff;border: 1px dotted black;border-radius: 0.25em;box-sizing: border-box;margin-bottom: 0.5em;}#sk-container-id-1 div.sk-estimator:hover {background-color: #d4ebff;}#sk-container-id-1 div.sk-parallel-item::after {content: \"\";width: 100%;border-bottom: 1px solid gray;flex-grow: 1;}#sk-container-id-1 div.sk-label:hover label.sk-toggleable__label {background-color: #d4ebff;}#sk-container-id-1 div.sk-serial::before {content: \"\";position: absolute;border-left: 1px solid gray;box-sizing: border-box;top: 0;bottom: 0;left: 50%;z-index: 0;}#sk-container-id-1 div.sk-serial {display: flex;flex-direction: column;align-items: center;background-color: white;padding-right: 0.2em;padding-left: 0.2em;position: relative;}#sk-container-id-1 div.sk-item {position: relative;z-index: 1;}#sk-container-id-1 div.sk-parallel {display: flex;align-items: stretch;justify-content: center;background-color: white;position: relative;}#sk-container-id-1 div.sk-item::before, #sk-container-id-1 div.sk-parallel-item::before {content: \"\";position: absolute;border-left: 1px solid gray;box-sizing: border-box;top: 0;bottom: 0;left: 50%;z-index: -1;}#sk-container-id-1 div.sk-parallel-item {display: flex;flex-direction: column;z-index: 1;position: relative;background-color: white;}#sk-container-id-1 div.sk-parallel-item:first-child::after {align-self: flex-end;width: 50%;}#sk-container-id-1 div.sk-parallel-item:last-child::after {align-self: flex-start;width: 50%;}#sk-container-id-1 div.sk-parallel-item:only-child::after {width: 0;}#sk-container-id-1 div.sk-dashed-wrapped {border: 1px dashed gray;margin: 0 0.4em 0.5em 0.4em;box-sizing: border-box;padding-bottom: 0.4em;background-color: white;}#sk-container-id-1 div.sk-label label {font-family: monospace;font-weight: bold;display: inline-block;line-height: 1.2em;}#sk-container-id-1 div.sk-label-container {text-align: center;}#sk-container-id-1 div.sk-container {/* jupyter's `normalize.less` sets `[hidden] { display: none; }` but bootstrap.min.css set `[hidden] { display: none !important; }` so we also need the `!important` here to be able to override the default hidden behavior on the sphinx rendered scikit-learn.org. See: https://github.com/scikit-learn/scikit-learn/issues/21755 */display: inline-block !important;position: relative;}#sk-container-id-1 div.sk-text-repr-fallback {display: none;}</style><div id=\"sk-container-id-1\" class=\"sk-top-container\"><div class=\"sk-text-repr-fallback\"><pre>LinearRegression()</pre><b>In a Jupyter environment, please rerun this cell to show the HTML representation or trust the notebook. <br />On GitHub, the HTML representation is unable to render, please try loading this page with nbviewer.org.</b></div><div class=\"sk-container\" hidden><div class=\"sk-item\"><div class=\"sk-estimator sk-toggleable\"><input class=\"sk-toggleable__control sk-hidden--visually\" id=\"sk-estimator-id-1\" type=\"checkbox\" checked><label for=\"sk-estimator-id-1\" class=\"sk-toggleable__label sk-toggleable__label-arrow\">LinearRegression</label><div class=\"sk-toggleable__content\"><pre>LinearRegression()</pre></div></div></div></div></div>"
      ],
      "text/plain": [
       "LinearRegression()"
      ]
     },
     "execution_count": 104,
     "metadata": {},
     "output_type": "execute_result"
    }
   ],
   "source": [
    "lin_model.fit(x_train,y_train)"
   ]
  },
  {
   "cell_type": "code",
   "execution_count": 105,
   "id": "65ce2956",
   "metadata": {},
   "outputs": [
    {
     "data": {
      "text/html": [
       "<style>#sk-container-id-2 {color: black;background-color: white;}#sk-container-id-2 pre{padding: 0;}#sk-container-id-2 div.sk-toggleable {background-color: white;}#sk-container-id-2 label.sk-toggleable__label {cursor: pointer;display: block;width: 100%;margin-bottom: 0;padding: 0.3em;box-sizing: border-box;text-align: center;}#sk-container-id-2 label.sk-toggleable__label-arrow:before {content: \"▸\";float: left;margin-right: 0.25em;color: #696969;}#sk-container-id-2 label.sk-toggleable__label-arrow:hover:before {color: black;}#sk-container-id-2 div.sk-estimator:hover label.sk-toggleable__label-arrow:before {color: black;}#sk-container-id-2 div.sk-toggleable__content {max-height: 0;max-width: 0;overflow: hidden;text-align: left;background-color: #f0f8ff;}#sk-container-id-2 div.sk-toggleable__content pre {margin: 0.2em;color: black;border-radius: 0.25em;background-color: #f0f8ff;}#sk-container-id-2 input.sk-toggleable__control:checked~div.sk-toggleable__content {max-height: 200px;max-width: 100%;overflow: auto;}#sk-container-id-2 input.sk-toggleable__control:checked~label.sk-toggleable__label-arrow:before {content: \"▾\";}#sk-container-id-2 div.sk-estimator input.sk-toggleable__control:checked~label.sk-toggleable__label {background-color: #d4ebff;}#sk-container-id-2 div.sk-label input.sk-toggleable__control:checked~label.sk-toggleable__label {background-color: #d4ebff;}#sk-container-id-2 input.sk-hidden--visually {border: 0;clip: rect(1px 1px 1px 1px);clip: rect(1px, 1px, 1px, 1px);height: 1px;margin: -1px;overflow: hidden;padding: 0;position: absolute;width: 1px;}#sk-container-id-2 div.sk-estimator {font-family: monospace;background-color: #f0f8ff;border: 1px dotted black;border-radius: 0.25em;box-sizing: border-box;margin-bottom: 0.5em;}#sk-container-id-2 div.sk-estimator:hover {background-color: #d4ebff;}#sk-container-id-2 div.sk-parallel-item::after {content: \"\";width: 100%;border-bottom: 1px solid gray;flex-grow: 1;}#sk-container-id-2 div.sk-label:hover label.sk-toggleable__label {background-color: #d4ebff;}#sk-container-id-2 div.sk-serial::before {content: \"\";position: absolute;border-left: 1px solid gray;box-sizing: border-box;top: 0;bottom: 0;left: 50%;z-index: 0;}#sk-container-id-2 div.sk-serial {display: flex;flex-direction: column;align-items: center;background-color: white;padding-right: 0.2em;padding-left: 0.2em;position: relative;}#sk-container-id-2 div.sk-item {position: relative;z-index: 1;}#sk-container-id-2 div.sk-parallel {display: flex;align-items: stretch;justify-content: center;background-color: white;position: relative;}#sk-container-id-2 div.sk-item::before, #sk-container-id-2 div.sk-parallel-item::before {content: \"\";position: absolute;border-left: 1px solid gray;box-sizing: border-box;top: 0;bottom: 0;left: 50%;z-index: -1;}#sk-container-id-2 div.sk-parallel-item {display: flex;flex-direction: column;z-index: 1;position: relative;background-color: white;}#sk-container-id-2 div.sk-parallel-item:first-child::after {align-self: flex-end;width: 50%;}#sk-container-id-2 div.sk-parallel-item:last-child::after {align-self: flex-start;width: 50%;}#sk-container-id-2 div.sk-parallel-item:only-child::after {width: 0;}#sk-container-id-2 div.sk-dashed-wrapped {border: 1px dashed gray;margin: 0 0.4em 0.5em 0.4em;box-sizing: border-box;padding-bottom: 0.4em;background-color: white;}#sk-container-id-2 div.sk-label label {font-family: monospace;font-weight: bold;display: inline-block;line-height: 1.2em;}#sk-container-id-2 div.sk-label-container {text-align: center;}#sk-container-id-2 div.sk-container {/* jupyter's `normalize.less` sets `[hidden] { display: none; }` but bootstrap.min.css set `[hidden] { display: none !important; }` so we also need the `!important` here to be able to override the default hidden behavior on the sphinx rendered scikit-learn.org. See: https://github.com/scikit-learn/scikit-learn/issues/21755 */display: inline-block !important;position: relative;}#sk-container-id-2 div.sk-text-repr-fallback {display: none;}</style><div id=\"sk-container-id-2\" class=\"sk-top-container\"><div class=\"sk-text-repr-fallback\"><pre>RandomForestRegressor(max_features=3, random_state=1)</pre><b>In a Jupyter environment, please rerun this cell to show the HTML representation or trust the notebook. <br />On GitHub, the HTML representation is unable to render, please try loading this page with nbviewer.org.</b></div><div class=\"sk-container\" hidden><div class=\"sk-item\"><div class=\"sk-estimator sk-toggleable\"><input class=\"sk-toggleable__control sk-hidden--visually\" id=\"sk-estimator-id-2\" type=\"checkbox\" checked><label for=\"sk-estimator-id-2\" class=\"sk-toggleable__label sk-toggleable__label-arrow\">RandomForestRegressor</label><div class=\"sk-toggleable__content\"><pre>RandomForestRegressor(max_features=3, random_state=1)</pre></div></div></div></div></div>"
      ],
      "text/plain": [
       "RandomForestRegressor(max_features=3, random_state=1)"
      ]
     },
     "execution_count": 105,
     "metadata": {},
     "output_type": "execute_result"
    }
   ],
   "source": [
    "rfr_model.fit(x_train,y_train)"
   ]
  },
  {
   "cell_type": "code",
   "execution_count": 107,
   "id": "bec7585d",
   "metadata": {},
   "outputs": [],
   "source": [
    "lin_predict=lin_model.predict(x_test)\n",
    "rfr_predict=rfr_model.predict(x_test)"
   ]
  },
  {
   "cell_type": "code",
   "execution_count": 115,
   "id": "456f5804",
   "metadata": {},
   "outputs": [
    {
     "data": {
      "image/png": "[encoded data removed]",
      "text/plain": [
       "<Figure size 640x480 with 1 Axes>"
      ]
     },
     "metadata": {},
     "output_type": "display_data"
    }
   ],
   "source": [
    "plt.plot(y_test.values,label='actual quantity')\n",
    "# plt.plot(lin_predict,label='linear reg predict')\n",
    "plt.plot(rfr_predict,label='random forest predict')\n",
    "\n",
    "plt.legend(loc='upper left')\n",
    "plt.show()"
   ]
  },
  {
   "cell_type": "code",
   "execution_count": 131,
   "id": "866eab92",
   "metadata": {},
   "outputs": [
    {
     "data": {
      "image/png": "[encoded data removed]",
      "text/plain": [
       "<Figure size 640x480 with 1 Axes>"
      ]
     },
     "metadata": {},
     "output_type": "display_data"
    }
   ],
   "source": [
    "plt.plot(y_test.values,label='actual quantity')\n",
    "plt.plot(lin_predict,label='linear reg predict')\n",
    "# plt.plot(rfr_predict,label='random forest predict')\n",
    "\n",
    "plt.legend(loc='upper left')\n",
    "plt.show()"
   ]
  },
  {
   "cell_type": "code",
   "execution_count": 112,
   "id": "0a862eb1",
   "metadata": {},
   "outputs": [
    {
     "data": {
      "text/plain": [
       "1.0"
      ]
     },
     "execution_count": 112,
     "metadata": {},
     "output_type": "execute_result"
    }
   ],
   "source": [
    "lin_model.score(x_test,lin_predict)"
   ]
  },
  {
   "cell_type": "code",
   "execution_count": 113,
   "id": "75e1a415",
   "metadata": {},
   "outputs": [
    {
     "data": {
      "text/plain": [
       "0.3231217032025906"
      ]
     },
     "execution_count": 113,
     "metadata": {},
     "output_type": "execute_result"
    }
   ],
   "source": [
    "lin_model.score(x_test,rfr_predict)"
   ]
  },
  {
   "cell_type": "code",
   "execution_count": 122,
   "id": "ca5f39d3",
   "metadata": {},
   "outputs": [
    {
     "data": {
      "text/plain": [
       "array([ 5,  2,  6,  6, -1,  3,  6,  1, 11,  1,  4,  1,  5, 10,  5, -1,  1,\n",
       "        4,  1,  1], dtype=int64)"
      ]
     },
     "execution_count": 122,
     "metadata": {},
     "output_type": "execute_result"
    }
   ],
   "source": [
    "y_test.values"
   ]
  },
  {
   "cell_type": "code",
   "execution_count": 123,
   "id": "9d6c1880",
   "metadata": {},
   "outputs": [
    {
     "data": {
      "text/plain": [
       "array([ 4.30666667,  6.228     , 11.97133333,  6.373     ,  1.63707937,\n",
       "        7.38333333,  2.48211905,  7.23      ,  3.74459524,  0.82894444,\n",
       "        1.97935317,  1.97935317,  3.6       ,  5.09      ,  9.074     ,\n",
       "        4.02847619,  2.13016667,  2.40688262,  1.87854762,  6.213     ])"
      ]
     },
     "execution_count": 123,
     "metadata": {},
     "output_type": "execute_result"
    }
   ],
   "source": [
    "rfr_predict"
   ]
  },
  {
   "cell_type": "code",
   "execution_count": 124,
   "id": "45e4bfed",
   "metadata": {},
   "outputs": [],
   "source": [
    "from sklearn.metrics import mean_squared_error \n",
    "from math import sqrt"
   ]
  },
  {
   "cell_type": "code",
   "execution_count": 133,
   "id": "7d875dc2",
   "metadata": {},
   "outputs": [
    {
     "name": "stdout",
     "output_type": "stream",
     "text": [
      "the rmse for fandom forest  is 3.8008867312441885\n"
     ]
    }
   ],
   "source": [
    "print('the rmse for fandom forest  is',sqrt(mean_squared_error(y_test.values,rfr_predict)))"
   ]
  },
  {
   "cell_type": "code",
   "execution_count": 134,
   "id": "14cef8fb",
   "metadata": {},
   "outputs": [
    {
     "name": "stdout",
     "output_type": "stream",
     "text": [
      "the rmse for linear regression  is 2.8154633888075824\n"
     ]
    }
   ],
   "source": [
    "print('the rmse for linear regression  is',sqrt(mean_squared_error(y_test.values,lin_predict)))"
   ]
  },
  {
   "cell_type": "code",
   "execution_count": 135,
   "id": "db006d64",
   "metadata": {},
   "outputs": [
    {
     "name": "stdout",
     "output_type": "stream",
     "text": [
      "mean of testing values is  3.55\n"
     ]
    }
   ],
   "source": [
    "print('mean of testing values is ',y_test.values.mean())"
   ]
  },
  {
   "cell_type": "markdown",
   "id": "6a8b28de",
   "metadata": {},
   "source": [
    "## time series analysis using RNN (LSTM)"
   ]
  },
  {
   "cell_type": "code",
   "execution_count": 158,
   "id": "ebe2f499",
   "metadata": {},
   "outputs": [],
   "source": [
    "df_lstm=data_final.copy()"
   ]
  },
  {
   "cell_type": "code",
   "execution_count": 162,
   "id": "7be4451e",
   "metadata": {},
   "outputs": [
    {
     "data": {
      "text/plain": [
       "(102,)"
      ]
     },
     "execution_count": 162,
     "metadata": {},
     "output_type": "execute_result"
    }
   ],
   "source": [
    "df_lstm['net_quantity'].shape"
   ]
  },
  {
   "cell_type": "code",
   "execution_count": 138,
   "id": "141b8851",
   "metadata": {},
   "outputs": [
    {
     "data": {
      "text/plain": [
       "<Axes: xlabel='day'>"
      ]
     },
     "execution_count": 138,
     "metadata": {},
     "output_type": "execute_result"
    },
    {
     "data": {
      "image/png": "[encoded data removed]",
      "text/plain": [
       "<Figure size 640x480 with 1 Axes>"
      ]
     },
     "metadata": {},
     "output_type": "display_data"
    }
   ],
   "source": [
    "df_lstm.plot()"
   ]
  },
  {
   "cell_type": "code",
   "execution_count": 154,
   "id": "8aaea65d",
   "metadata": {},
   "outputs": [],
   "source": [
    "from tensorflow.keras.models import Sequential\n",
    "from tensorflow.keras.layers import LSTM, Dense"
   ]
  },
  {
   "cell_type": "code",
   "execution_count": 155,
   "id": "aa5f7975",
   "metadata": {},
   "outputs": [],
   "source": [
    "from keras.preprocessing.sequence import TimeseriesGenerator"
   ]
  },
  {
   "cell_type": "code",
   "execution_count": 156,
   "id": "797fd07e",
   "metadata": {},
   "outputs": [],
   "source": [
    "n_input=3"
   ]
  },
  {
   "cell_type": "code",
   "execution_count": 157,
   "id": "ba49e1c6",
   "metadata": {},
   "outputs": [],
   "source": [
    "n_features=1"
   ]
  },
  {
   "cell_type": "code",
   "execution_count": 185,
   "id": "0fc12e4e",
   "metadata": {},
   "outputs": [],
   "source": [
    "generator=TimeseriesGenerator(train['net_quantity'],train['net_quantity'],length=n_input,batch_size=1)"
   ]
  },
  {
   "cell_type": "code",
   "execution_count": 186,
   "id": "8bbade44",
   "metadata": {},
   "outputs": [
    {
     "data": {
      "text/plain": [
       "(array([[8, 1, 2]], dtype=int64), array([2], dtype=int64))"
      ]
     },
     "execution_count": 186,
     "metadata": {},
     "output_type": "execute_result"
    }
   ],
   "source": [
    "generator[0]"
   ]
  },
  {
   "cell_type": "code",
   "execution_count": 187,
   "id": "f308e397",
   "metadata": {},
   "outputs": [
    {
     "data": {
      "text/plain": [
       "(array([[1, 2, 2]], dtype=int64), array([0], dtype=int64))"
      ]
     },
     "execution_count": 187,
     "metadata": {},
     "output_type": "execute_result"
    }
   ],
   "source": [
    "generator[1]"
   ]
  },
  {
   "cell_type": "code",
   "execution_count": 188,
   "id": "06200f43",
   "metadata": {},
   "outputs": [],
   "source": [
    "model_lstm=Sequential()"
   ]
  },
  {
   "cell_type": "code",
   "execution_count": 189,
   "id": "ff17990b",
   "metadata": {},
   "outputs": [],
   "source": [
    "model_lstm.add(LSTM(100,activation='relu',input_shape=(n_input,1)))"
   ]
  },
  {
   "cell_type": "code",
   "execution_count": 191,
   "id": "2a84164d",
   "metadata": {},
   "outputs": [],
   "source": [
    "model_lstm.add(Dense(1))"
   ]
  },
  {
   "cell_type": "code",
   "execution_count": 192,
   "id": "1faa3a5a",
   "metadata": {},
   "outputs": [],
   "source": [
    "model_lstm.compile(optimizer='adam',loss='mse')"
   ]
  },
  {
   "cell_type": "code",
   "execution_count": 194,
   "id": "ded364dc",
   "metadata": {},
   "outputs": [
    {
     "name": "stdout",
     "output_type": "stream",
     "text": [
      "Model: \"sequential\"\n",
      "_________________________________________________________________\n",
      " Layer (type)                Output Shape              Param #   \n",
      "=================================================================\n",
      " lstm (LSTM)                 (None, 100)               40800     \n",
      "                                                                 \n",
      " dense (Dense)               (None, 1)                 101       \n",
      "                                                                 \n",
      "=================================================================\n",
      "Total params: 40,901\n",
      "Trainable params: 40,901\n",
      "Non-trainable params: 0\n",
      "_________________________________________________________________\n"
     ]
    }
   ],
   "source": [
    "model_lstm.summary()"
   ]
  },
  {
   "cell_type": "code",
   "execution_count": 196,
   "id": "81d92efc",
   "metadata": {},
   "outputs": [
    {
     "name": "stdout",
     "output_type": "stream",
     "text": [
      "Epoch 1/50\n",
      "89/89 [==============================] - 3s 3ms/step - loss: 19.3874\n",
      "Epoch 2/50\n",
      "89/89 [==============================] - 0s 4ms/step - loss: 12.5245\n",
      "Epoch 3/50\n",
      "89/89 [==============================] - 1s 7ms/step - loss: 11.8391\n",
      "Epoch 4/50\n",
      "89/89 [==============================] - 1s 7ms/step - loss: 10.9082\n",
      "Epoch 5/50\n",
      "89/89 [==============================] - 1s 7ms/step - loss: 11.5152\n",
      "Epoch 6/50\n",
      "89/89 [==============================] - 0s 4ms/step - loss: 10.3548\n",
      "Epoch 7/50\n",
      "89/89 [==============================] - 0s 3ms/step - loss: 10.6885\n",
      "Epoch 8/50\n",
      "89/89 [==============================] - 0s 4ms/step - loss: 9.7586\n",
      "Epoch 9/50\n",
      "89/89 [==============================] - 0s 4ms/step - loss: 10.4906\n",
      "Epoch 10/50\n",
      "89/89 [==============================] - 0s 4ms/step - loss: 9.5879\n",
      "Epoch 11/50\n",
      "89/89 [==============================] - 1s 8ms/step - loss: 9.7127\n",
      "Epoch 12/50\n",
      "89/89 [==============================] - 1s 6ms/step - loss: 9.4418\n",
      "Epoch 13/50\n",
      "89/89 [==============================] - 0s 5ms/step - loss: 9.7971\n",
      "Epoch 14/50\n",
      "89/89 [==============================] - 0s 3ms/step - loss: 9.4012\n",
      "Epoch 15/50\n",
      "89/89 [==============================] - 0s 3ms/step - loss: 9.3762\n",
      "Epoch 16/50\n",
      "89/89 [==============================] - 0s 3ms/step - loss: 9.3813\n",
      "Epoch 17/50\n",
      "89/89 [==============================] - 0s 3ms/step - loss: 9.0910\n",
      "Epoch 18/50\n",
      "89/89 [==============================] - 0s 3ms/step - loss: 9.9728\n",
      "Epoch 19/50\n",
      "89/89 [==============================] - 1s 6ms/step - loss: 9.1982\n",
      "Epoch 20/50\n",
      "89/89 [==============================] - 0s 4ms/step - loss: 9.3915\n",
      "Epoch 21/50\n",
      "89/89 [==============================] - 0s 3ms/step - loss: 8.7721\n",
      "Epoch 22/50\n",
      "89/89 [==============================] - 0s 3ms/step - loss: 9.5900\n",
      "Epoch 23/50\n",
      "89/89 [==============================] - 0s 4ms/step - loss: 9.1220\n",
      "Epoch 24/50\n",
      "89/89 [==============================] - 0s 3ms/step - loss: 9.2483\n",
      "Epoch 25/50\n",
      "89/89 [==============================] - 0s 3ms/step - loss: 8.9163\n",
      "Epoch 26/50\n",
      "89/89 [==============================] - 0s 3ms/step - loss: 9.1657\n",
      "Epoch 27/50\n",
      "89/89 [==============================] - 0s 5ms/step - loss: 8.9248\n",
      "Epoch 28/50\n",
      "89/89 [==============================] - 1s 8ms/step - loss: 9.3164\n",
      "Epoch 29/50\n",
      "89/89 [==============================] - 1s 7ms/step - loss: 8.9479\n",
      "Epoch 30/50\n",
      "89/89 [==============================] - 1s 7ms/step - loss: 8.9421\n",
      "Epoch 31/50\n",
      "89/89 [==============================] - 1s 8ms/step - loss: 8.7032\n",
      "Epoch 32/50\n",
      "89/89 [==============================] - 0s 3ms/step - loss: 8.6312\n",
      "Epoch 33/50\n",
      "89/89 [==============================] - 0s 3ms/step - loss: 8.6458\n",
      "Epoch 34/50\n",
      "89/89 [==============================] - 0s 3ms/step - loss: 8.4708\n",
      "Epoch 35/50\n",
      "89/89 [==============================] - 0s 3ms/step - loss: 8.7574\n",
      "Epoch 36/50\n",
      "89/89 [==============================] - 1s 6ms/step - loss: 8.7752\n",
      "Epoch 37/50\n",
      "89/89 [==============================] - 1s 8ms/step - loss: 8.6774\n",
      "Epoch 38/50\n",
      "89/89 [==============================] - 1s 7ms/step - loss: 8.3617\n",
      "Epoch 39/50\n",
      "89/89 [==============================] - 1s 8ms/step - loss: 8.4694\n",
      "Epoch 40/50\n",
      "89/89 [==============================] - 1s 8ms/step - loss: 8.3621\n",
      "Epoch 41/50\n",
      "89/89 [==============================] - 1s 8ms/step - loss: 8.2613\n",
      "Epoch 42/50\n",
      "89/89 [==============================] - 1s 8ms/step - loss: 8.7491\n",
      "Epoch 43/50\n",
      "89/89 [==============================] - 0s 4ms/step - loss: 8.2557\n",
      "Epoch 44/50\n",
      "89/89 [==============================] - 0s 4ms/step - loss: 8.9961\n",
      "Epoch 45/50\n",
      "89/89 [==============================] - 0s 4ms/step - loss: 8.2055\n",
      "Epoch 46/50\n",
      "89/89 [==============================] - 0s 5ms/step - loss: 8.1917\n",
      "Epoch 47/50\n",
      "89/89 [==============================] - 1s 8ms/step - loss: 8.7403\n",
      "Epoch 48/50\n",
      "89/89 [==============================] - 1s 8ms/step - loss: 8.1134\n",
      "Epoch 49/50\n",
      "89/89 [==============================] - 1s 8ms/step - loss: 8.2255\n",
      "Epoch 50/50\n",
      "89/89 [==============================] - 0s 4ms/step - loss: 8.1537\n"
     ]
    },
    {
     "data": {
      "text/plain": [
       "<keras.callbacks.History at 0x2531f8dcfa0>"
      ]
     },
     "execution_count": 196,
     "metadata": {},
     "output_type": "execute_result"
    }
   ],
   "source": [
    "model_lstm.fit(generator,epochs=50)"
   ]
  },
  {
   "cell_type": "code",
   "execution_count": 197,
   "id": "726bc057",
   "metadata": {},
   "outputs": [],
   "source": [
    "loss_per_epoch=model_lstm.history.history['loss']"
   ]
  },
  {
   "cell_type": "code",
   "execution_count": 198,
   "id": "b4afaf92",
   "metadata": {},
   "outputs": [
    {
     "data": {
      "text/plain": [
       "[<matplotlib.lines.Line2D at 0x25321b0e830>]"
      ]
     },
     "execution_count": 198,
     "metadata": {},
     "output_type": "execute_result"
    },
    {
     "data": {
      "image/png": "[encoded data removed]",
      "text/plain": [
       "<Figure size 640x480 with 1 Axes>"
      ]
     },
     "metadata": {},
     "output_type": "display_data"
    }
   ],
   "source": [
    "plt.plot(loss_per_epoch)"
   ]
  },
  {
   "cell_type": "code",
   "execution_count": 200,
   "id": "01849a00",
   "metadata": {},
   "outputs": [],
   "source": [
    "last_train=train[-n_input:]"
   ]
  },
  {
   "cell_type": "code",
   "execution_count": null,
   "id": "96beb8c3",
   "metadata": {},
   "outputs": [],
   "source": []
  }
 ],
 "metadata": {
  "kernelspec": {
   "display_name": "Python 3 (ipykernel)",
   "language": "python",
   "name": "python3"
  },
  "language_info": {
   "codemirror_mode": {
    "name": "ipython",
    "version": 3
   },
   "file_extension": ".py",
   "mimetype": "text/x-python",
   "name": "python",
   "nbconvert_exporter": "python",
   "pygments_lexer": "ipython3",
   "version": "3.10.9"
  }
 },
 "nbformat": 4,
 "nbformat_minor": 5
}
